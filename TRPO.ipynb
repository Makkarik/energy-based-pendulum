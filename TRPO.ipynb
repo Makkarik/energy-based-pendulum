{
 "cells": [
  {
   "cell_type": "code",
   "execution_count": 1,
   "metadata": {},
   "outputs": [],
   "source": [
    "import os\n",
    "\n",
    "import numpy as np\n",
    "import torch\n",
    "\n",
    "from src.trpo import TRPO\n",
    "from src.tools import train, evaluate, load_model\n",
    "from src.utils import mp4_to_gif"
   ]
  },
  {
   "cell_type": "code",
   "execution_count": 2,
   "metadata": {},
   "outputs": [],
   "source": [
    "# Set random seeds for reproducibility\n",
    "SEED = 42\n",
    "torch.manual_seed(SEED)\n",
    "np.random.seed(SEED)\n",
    "\n",
    "ENV_NAME = \"InvertedDoublePendulum-v5\"\n",
    "os.makedirs(\"results\", exist_ok=True)"
   ]
  },
  {
   "cell_type": "markdown",
   "metadata": {},
   "source": [
    "Standart Reward"
   ]
  },
  {
   "cell_type": "code",
   "execution_count": null,
   "metadata": {},
   "outputs": [
    {
     "name": "stderr",
     "output_type": "stream",
     "text": [
      "TRPO training:   0%|          | 0/10 [00:00<?, ?it/s]"
     ]
    },
    {
     "name": "stderr",
     "output_type": "stream",
     "text": [
      "TRPO training: 100%|██████████| 10/10 [00:33<00:00,  3.31s/it]\n"
     ]
    }
   ],
   "source": [
    "agent = train(\n",
    "    env_name=ENV_NAME,\n",
    "    agent=TRPO,\n",
    "    num_epochs=350,\n",
    "    steps_per_epoch=4096,\n",
    "    gamma=0.99,\n",
    "    reward_type=\"rewards\",\n",
    ")"
   ]
  },
  {
   "cell_type": "code",
   "execution_count": null,
   "metadata": {},
   "outputs": [
    {
     "name": "stderr",
     "output_type": "stream",
     "text": [
      "c:\\Users\\mekor\\Documents\\Skoltech\\Term-7\\RL\\energy-based-ppo\\.venv\\Lib\\site-packages\\gymnasium\\wrappers\\rendering.py:283: UserWarning: \u001b[33mWARN: Overwriting existing videos at c:\\Users\\mekor\\Documents\\Skoltech\\Term-7\\RL\\energy-based-ppo\\results folder (try specifying a different `video_folder` for the `RecordVideo` wrapper if this is not desired)\u001b[0m\n",
      "  logger.warn(\n",
      "TRPO evaluation: 100%|██████████| 1000/1000 [00:05<00:00, 185.40it/s]"
     ]
    },
    {
     "name": "stdout",
     "output_type": "stream",
     "text": [
      "Evaluation Results over 1000 episodes:\n",
      "Average Episode Length: 14.14\n",
      "Average Episode Reward: 120.99\n",
      "Average Episode Energy Reward: 155.20\n"
     ]
    },
    {
     "name": "stderr",
     "output_type": "stream",
     "text": [
      "\n"
     ]
    },
    {
     "data": {
      "text/plain": [
       "(np.float64(120.99328980992946),\n",
       " np.float64(155.19538989180955),\n",
       " np.float64(14.141))"
      ]
     },
     "execution_count": 6,
     "metadata": {},
     "output_type": "execute_result"
    }
   ],
   "source": [
    "agent = load_model(\"./results/trpo-rewards-best.pt\", agent)\n",
    "evaluate(ENV_NAME, agent, num_episodes=1000, record_video=True, reward_type=\"rewards\")\n"
   ]
  },
  {
   "cell_type": "markdown",
   "metadata": {},
   "source": [
    "Energy Reward"
   ]
  },
  {
   "cell_type": "code",
   "execution_count": null,
   "metadata": {},
   "outputs": [
    {
     "name": "stderr",
     "output_type": "stream",
     "text": [
      "TRPO training: 100%|██████████| 10/10 [00:33<00:00,  3.38s/it]\n"
     ]
    }
   ],
   "source": [
    "agent = train(\n",
    "    env_name=ENV_NAME,\n",
    "    agent=TRPO,\n",
    "    num_epochs=350,\n",
    "    steps_per_epoch=4096,\n",
    "    gamma=0.99,\n",
    "    reward_type=\"energies\",\n",
    ")"
   ]
  },
  {
   "cell_type": "code",
   "execution_count": null,
   "metadata": {},
   "outputs": [
    {
     "name": "stderr",
     "output_type": "stream",
     "text": [
      "c:\\Users\\mekor\\Documents\\Skoltech\\Term-7\\RL\\energy-based-ppo\\.venv\\Lib\\site-packages\\gymnasium\\wrappers\\rendering.py:283: UserWarning: \u001b[33mWARN: Overwriting existing videos at c:\\Users\\mekor\\Documents\\Skoltech\\Term-7\\RL\\energy-based-ppo\\results folder (try specifying a different `video_folder` for the `RecordVideo` wrapper if this is not desired)\u001b[0m\n",
      "  logger.warn(\n",
      "TRPO evaluation: 100%|██████████| 1000/1000 [00:05<00:00, 199.03it/s]\n"
     ]
    },
    {
     "name": "stdout",
     "output_type": "stream",
     "text": [
      "Evaluation Results over 1000 episodes:\n",
      "Average Episode Length: 13.96\n",
      "Average Episode Reward: 119.28\n",
      "Average Episode Energy Reward: 153.58\n"
     ]
    },
    {
     "data": {
      "text/plain": [
       "(np.float64(119.28420936703246),\n",
       " np.float64(153.58408008512217),\n",
       " np.float64(13.955))"
      ]
     },
     "execution_count": 8,
     "metadata": {},
     "output_type": "execute_result"
    }
   ],
   "source": [
    "agent = load_model(\"./results/trpo-energies-best.pt\", agent)\n",
    "evaluate(ENV_NAME, agent, num_episodes=1000, record_video=True, reward_type=\"energies\")\n"
   ]
  },
  {
   "cell_type": "code",
   "execution_count": 9,
   "metadata": {},
   "outputs": [
    {
     "name": "stderr",
     "output_type": "stream",
     "text": [
      "Video files conversion: 100%|██████████| 2/2 [00:01<00:00,  1.21it/s]\n"
     ]
    }
   ],
   "source": [
    "mp4_to_gif(\"./results\")"
   ]
  }
 ],
 "metadata": {
  "kernelspec": {
   "display_name": ".venv",
   "language": "python",
   "name": "python3"
  },
  "language_info": {
   "codemirror_mode": {
    "name": "ipython",
    "version": 3
   },
   "file_extension": ".py",
   "mimetype": "text/x-python",
   "name": "python",
   "nbconvert_exporter": "python",
   "pygments_lexer": "ipython3",
   "version": "3.12.6"
  }
 },
 "nbformat": 4,
 "nbformat_minor": 2
}
