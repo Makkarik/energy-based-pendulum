{
 "cells": [
  {
   "cell_type": "code",
   "execution_count": 2,
   "metadata": {},
   "outputs": [],
   "source": [
    "import os\n",
    "\n",
    "import numpy as np\n",
    "import torch\n",
    "\n",
    "from src.trpo import TRPO\n",
    "from src.tools import train, evaluate, load_model\n",
    "from src.utils import mp4_to_gif"
   ]
  },
  {
   "cell_type": "code",
   "execution_count": null,
   "metadata": {},
   "outputs": [],
   "source": [
    "# Set random seeds for reproducibility\n",
    "SEED = 42\n",
    "torch.manual_seed(SEED)\n",
    "np.random.seed(SEED)\n",
    "\n",
    "ENV_NAME = \"InvertedDoublePendulum-v5\"\n",
    "os.makedirs(\"results\", exist_ok=True)\n",
    "\n",
    "VAL_EPISODES = 1000\n",
    "\n",
    "EPOCHS = 350\n",
    "STEPS_PER_EPOCH = 4096\n",
    "GAMMA = 0.99"
   ]
  },
  {
   "cell_type": "markdown",
   "metadata": {},
   "source": [
    "Standart Reward"
   ]
  },
  {
   "cell_type": "code",
   "execution_count": null,
   "metadata": {},
   "outputs": [
    {
     "name": "stderr",
     "output_type": "stream",
     "text": [
      "TRPO training: 100%|██████████| 400/400 [14:38<00:00,  2.20s/it]\n"
     ]
    }
   ],
   "source": [
    "agent = train(\n",
    "    env_name=ENV_NAME,\n",
    "    agent=TRPO,\n",
    "    num_epochs=EPOCHS,\n",
    "    steps_per_epoch=STEPS_PER_EPOCH,\n",
    "    gamma=GAMMA,\n",
    "    reward_type=\"rewards\",\n",
    ")"
   ]
  },
  {
   "cell_type": "code",
   "execution_count": 7,
   "metadata": {},
   "outputs": [
    {
     "name": "stderr",
     "output_type": "stream",
     "text": [
      "c:\\Users\\mekor\\Documents\\Skoltech\\Term-7\\RL\\energy-based-ppo\\.venv\\Lib\\site-packages\\gymnasium\\wrappers\\rendering.py:283: UserWarning: \u001b[33mWARN: Overwriting existing videos at c:\\Users\\mekor\\Documents\\Skoltech\\Term-7\\RL\\energy-based-ppo\\results folder (try specifying a different `video_folder` for the `RecordVideo` wrapper if this is not desired)\u001b[0m\n",
      "  logger.warn(\n",
      "TRPO evaluation: 100%|██████████| 1000/1000 [03:59<00:00,  4.17it/s]\n"
     ]
    },
    {
     "name": "stdout",
     "output_type": "stream",
     "text": [
      "Evaluation Results over 1000 episodes:\n",
      "Average Episode Length: 954.28\n",
      "Average Episode Reward: 8930.48\n",
      "Average Episode Energy Reward: 11211.36\n"
     ]
    },
    {
     "data": {
      "text/plain": [
       "(np.float64(8930.47763027744),\n",
       " np.float64(11211.358915603261),\n",
       " np.float64(954.281))"
      ]
     },
     "execution_count": 7,
     "metadata": {},
     "output_type": "execute_result"
    }
   ],
   "source": [
    "agent = load_model(\"./results/trpo-rewards-best.pt\", agent)\n",
    "evaluate(ENV_NAME, agent, num_episodes=VAL_EPISODES, record_video=True, reward_type=\"rewards\")\n"
   ]
  },
  {
   "cell_type": "markdown",
   "metadata": {},
   "source": [
    "Energy Reward"
   ]
  },
  {
   "cell_type": "code",
   "execution_count": 11,
   "metadata": {},
   "outputs": [
    {
     "name": "stderr",
     "output_type": "stream",
     "text": [
      "TRPO training: 100%|██████████| 400/400 [14:48<00:00,  2.22s/it]\n"
     ]
    }
   ],
   "source": [
    "agent = train(\n",
    "    env_name=ENV_NAME,\n",
    "    agent=TRPO,\n",
    "    num_epochs=EPOCHS,\n",
    "    steps_per_epoch=STEPS_PER_EPOCH,\n",
    "    gamma=GAMMA,\n",
    "    reward_type=\"energies\",\n",
    ")"
   ]
  },
  {
   "cell_type": "code",
   "execution_count": 12,
   "metadata": {},
   "outputs": [
    {
     "name": "stderr",
     "output_type": "stream",
     "text": [
      "c:\\Users\\mekor\\Documents\\Skoltech\\Term-7\\RL\\energy-based-ppo\\.venv\\Lib\\site-packages\\gymnasium\\wrappers\\rendering.py:283: UserWarning: \u001b[33mWARN: Overwriting existing videos at c:\\Users\\mekor\\Documents\\Skoltech\\Term-7\\RL\\energy-based-ppo\\results folder (try specifying a different `video_folder` for the `RecordVideo` wrapper if this is not desired)\u001b[0m\n",
      "  logger.warn(\n",
      "TRPO evaluation:   0%|          | 0/1000 [00:00<?, ?it/s]"
     ]
    },
    {
     "name": "stderr",
     "output_type": "stream",
     "text": [
      "TRPO evaluation: 100%|██████████| 1000/1000 [03:16<00:00,  5.08it/s]\n"
     ]
    },
    {
     "name": "stdout",
     "output_type": "stream",
     "text": [
      "Evaluation Results over 1000 episodes:\n",
      "Average Episode Length: 826.44\n",
      "Average Episode Reward: 7731.23\n",
      "Average Episode Energy Reward: 9715.10\n"
     ]
    },
    {
     "data": {
      "text/plain": [
       "(np.float64(7731.225958087215),\n",
       " np.float64(9715.097913886866),\n",
       " np.float64(826.439))"
      ]
     },
     "execution_count": 12,
     "metadata": {},
     "output_type": "execute_result"
    }
   ],
   "source": [
    "agent = load_model(\"./results/trpo-energies-best.pt\", agent)\n",
    "evaluate(ENV_NAME, agent, num_episodes=VAL_EPISODES, record_video=True, reward_type=\"energies\")\n"
   ]
  },
  {
   "cell_type": "code",
   "execution_count": 13,
   "metadata": {},
   "outputs": [
    {
     "name": "stderr",
     "output_type": "stream",
     "text": [
      "Video files conversion: 100%|██████████| 2/2 [00:40<00:00, 20.42s/it]\n"
     ]
    }
   ],
   "source": [
    "mp4_to_gif(\"./results\")"
   ]
  }
 ],
 "metadata": {
  "kernelspec": {
   "display_name": ".venv",
   "language": "python",
   "name": "python3"
  },
  "language_info": {
   "codemirror_mode": {
    "name": "ipython",
    "version": 3
   },
   "file_extension": ".py",
   "mimetype": "text/x-python",
   "name": "python",
   "nbconvert_exporter": "python",
   "pygments_lexer": "ipython3",
   "version": "3.12.6"
  }
 },
 "nbformat": 4,
 "nbformat_minor": 2
}
