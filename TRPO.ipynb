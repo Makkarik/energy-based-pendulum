{
 "cells": [
  {
   "cell_type": "code",
   "execution_count": 2,
   "metadata": {},
   "outputs": [],
   "source": [
    "from src.trpo import load_model, train_trpo, evaluate\n",
    "from src.utils import mp4_to_gif\n",
    "import os"
   ]
  },
  {
   "cell_type": "code",
   "execution_count": 3,
   "metadata": {},
   "outputs": [],
   "source": [
    "ENV_NAME = \"InvertedDoublePendulum-v5\"\n",
    "os.makedirs(\"results\", exist_ok=True)"
   ]
  },
  {
   "cell_type": "markdown",
   "metadata": {},
   "source": [
    "Standart Reward"
   ]
  },
  {
   "cell_type": "code",
   "execution_count": 4,
   "metadata": {},
   "outputs": [
    {
     "name": "stderr",
     "output_type": "stream",
     "text": [
      "TRPO training: 100%|██████████| 300/300 [04:50<00:00,  1.03it/s]\n"
     ]
    }
   ],
   "source": [
    "train_trpo(\n",
    "    ENV_NAME,\n",
    "    num_epochs=300,\n",
    "    steps_per_epoch=4096,\n",
    "    gamma=0.99,\n",
    "    reward_type=\"rewards\",\n",
    ")"
   ]
  },
  {
   "cell_type": "code",
   "execution_count": 4,
   "metadata": {},
   "outputs": [
    {
     "name": "stderr",
     "output_type": "stream",
     "text": [
      "/home/medric/Desktop/appV2/databasePochta/lib/python3.10/site-packages/gymnasium/wrappers/rendering.py:283: UserWarning: \u001b[33mWARN: Overwriting existing videos at /home/medric/Desktop/rl_course/energy-based-ppo/results folder (try specifying a different `video_folder` for the `RecordVideo` wrapper if this is not desired)\u001b[0m\n",
      "  logger.warn(\n",
      "TRPO evaluation: 100%|██████████| 1000/1000 [01:36<00:00, 10.31it/s]\n"
     ]
    },
    {
     "name": "stdout",
     "output_type": "stream",
     "text": [
      "Evaluation Results over 1000 episodes:\n",
      "Average Episode Length: 972.76\n",
      "Average Episode Reward: 9098.62\n",
      "Average Episode Energy Reward: 11313.23\n"
     ]
    },
    {
     "data": {
      "text/plain": [
       "(9098.619595264394, 11313.227122566193, 972.763)"
      ]
     },
     "execution_count": 4,
     "metadata": {},
     "output_type": "execute_result"
    }
   ],
   "source": [
    "agent = load_model(\"./models/trpo-best.pt\", env_name=ENV_NAME)\n",
    "evaluate(ENV_NAME, agent, num_episodes=1000, record_video=True, reward_type=\"reward\")"
   ]
  },
  {
   "cell_type": "markdown",
   "metadata": {},
   "source": [
    "Energy Reward"
   ]
  },
  {
   "cell_type": "code",
   "execution_count": 5,
   "metadata": {},
   "outputs": [
    {
     "name": "stderr",
     "output_type": "stream",
     "text": [
      "TRPO training: 100%|██████████| 300/300 [05:11<00:00,  1.04s/it]\n"
     ]
    }
   ],
   "source": [
    "train_trpo(\n",
    "    ENV_NAME,\n",
    "    num_epochs=300,\n",
    "    steps_per_epoch=4096,\n",
    "    gamma=0.99,\n",
    "    reward_type=\"energy_rewards\",\n",
    ")"
   ]
  },
  {
   "cell_type": "code",
   "execution_count": 7,
   "metadata": {},
   "outputs": [
    {
     "name": "stderr",
     "output_type": "stream",
     "text": [
      "/home/medric/Desktop/appV2/databasePochta/lib/python3.10/site-packages/gymnasium/wrappers/rendering.py:283: UserWarning: \u001b[33mWARN: Overwriting existing videos at /home/medric/Desktop/rl_course/energy-based-ppo/results folder (try specifying a different `video_folder` for the `RecordVideo` wrapper if this is not desired)\u001b[0m\n",
      "  logger.warn(\n",
      "TRPO evaluation: 100%|██████████| 1000/1000 [00:08<00:00, 113.50it/s]"
     ]
    },
    {
     "name": "stdout",
     "output_type": "stream",
     "text": [
      "Evaluation Results over 1000 episodes:\n",
      "Average Episode Length: 81.00\n",
      "Average Episode Reward: 745.91\n",
      "Average Episode Energy Reward: 929.48\n"
     ]
    },
    {
     "name": "stderr",
     "output_type": "stream",
     "text": [
      "\n"
     ]
    },
    {
     "data": {
      "text/plain": [
       "(745.9141877771887, 929.4833102116065, 80.995)"
      ]
     },
     "execution_count": 7,
     "metadata": {},
     "output_type": "execute_result"
    }
   ],
   "source": [
    "agent = load_model(\"./models/trpo-best.pt\", env_name=ENV_NAME)\n",
    "evaluate(ENV_NAME, agent, num_episodes=1000, record_video=True, reward_type=\"energy\")"
   ]
  },
  {
   "cell_type": "code",
   "execution_count": 8,
   "metadata": {},
   "outputs": [
    {
     "name": "stderr",
     "output_type": "stream",
     "text": [
      "Video files conversion: 100%|██████████| 1/1 [00:02<00:00,  2.21s/it]\n"
     ]
    }
   ],
   "source": [
    "mp4_to_gif(\"./results\")"
   ]
  },
  {
   "cell_type": "code",
   "execution_count": null,
   "metadata": {},
   "outputs": [],
   "source": []
  }
 ],
 "metadata": {
  "kernelspec": {
   "display_name": "databasePochta",
   "language": "python",
   "name": "python3"
  },
  "language_info": {
   "codemirror_mode": {
    "name": "ipython",
    "version": 3
   },
   "file_extension": ".py",
   "mimetype": "text/x-python",
   "name": "python",
   "nbconvert_exporter": "python",
   "pygments_lexer": "ipython3",
   "version": "3.10.12"
  }
 },
 "nbformat": 4,
 "nbformat_minor": 2
}
