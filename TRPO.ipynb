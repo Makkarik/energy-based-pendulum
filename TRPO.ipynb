{
 "cells": [
  {
   "cell_type": "code",
   "execution_count": 1,
   "metadata": {},
   "outputs": [],
   "source": [
    "import os\n",
    "\n",
    "import numpy as np\n",
    "import torch\n",
    "\n",
    "from src.trpo import TRPO\n",
    "from src.tools import train, evaluate, load_model\n",
    "from src.utils import mp4_to_gif"
   ]
  },
  {
   "cell_type": "code",
   "execution_count": 2,
   "metadata": {},
   "outputs": [],
   "source": [
    "# Set random seeds for reproducibility\n",
    "SEED = 42\n",
    "torch.manual_seed(SEED)\n",
    "np.random.seed(SEED)\n",
    "\n",
    "ENV_NAME = \"InvertedDoublePendulum-v5\"\n",
    "os.makedirs(\"results\", exist_ok=True)"
   ]
  },
  {
   "cell_type": "markdown",
   "metadata": {},
   "source": [
    "Standart Reward"
   ]
  },
  {
   "cell_type": "code",
   "execution_count": 3,
   "metadata": {},
   "outputs": [
    {
     "name": "stderr",
     "output_type": "stream",
     "text": [
      "TRPO training: 100%|██████████| 350/350 [05:39<00:00,  1.03it/s]\n"
     ]
    }
   ],
   "source": [
    "agent = train(\n",
    "    env_name=ENV_NAME,\n",
    "    agent=TRPO,\n",
    "    num_epochs=350,\n",
    "    steps_per_epoch=4096,\n",
    "    gamma=0.99,\n",
    "    reward_type=\"rewards\",\n",
    ")"
   ]
  },
  {
   "cell_type": "code",
   "execution_count": 4,
   "metadata": {},
   "outputs": [
    {
     "name": "stderr",
     "output_type": "stream",
     "text": [
      "/home/medric/Desktop/appV2/databasePochta/lib/python3.10/site-packages/gymnasium/wrappers/rendering.py:283: UserWarning: \u001b[33mWARN: Overwriting existing videos at /home/medric/Desktop/rl_course/after_refactoring/energy-based-ppo-refactoring/results folder (try specifying a different `video_folder` for the `RecordVideo` wrapper if this is not desired)\u001b[0m\n",
      "  logger.warn(\n",
      "TRPO evaluation: 100%|██████████| 1000/1000 [01:24<00:00, 11.80it/s]"
     ]
    },
    {
     "name": "stdout",
     "output_type": "stream",
     "text": [
      "Evaluation Results over 1000 episodes:\n",
      "Average Episode Length: 977.67\n",
      "Average Episode Reward: 9149.17\n",
      "Average Episode Energy Reward: 11498.76\n"
     ]
    },
    {
     "name": "stderr",
     "output_type": "stream",
     "text": [
      "\n"
     ]
    },
    {
     "data": {
      "text/plain": [
       "(9149.168230721583, 11498.764168183889, 977.668)"
      ]
     },
     "execution_count": 4,
     "metadata": {},
     "output_type": "execute_result"
    }
   ],
   "source": [
    "agent = load_model(\"./results/trpo-rewards-best.pt\", agent)\n",
    "evaluate(ENV_NAME, agent, num_episodes=1000, record_video=True, reward_type=\"rewards\")\n"
   ]
  },
  {
   "cell_type": "markdown",
   "metadata": {},
   "source": [
    "Energy Reward"
   ]
  },
  {
   "cell_type": "code",
   "execution_count": 5,
   "metadata": {},
   "outputs": [
    {
     "name": "stderr",
     "output_type": "stream",
     "text": [
      "TRPO training: 100%|██████████| 350/350 [06:07<00:00,  1.05s/it]\n"
     ]
    }
   ],
   "source": [
    "agent = train(\n",
    "    env_name=ENV_NAME,\n",
    "    agent=TRPO,\n",
    "    num_epochs=350,\n",
    "    steps_per_epoch=4096,\n",
    "    gamma=0.99,\n",
    "    reward_type=\"energies\",\n",
    ")"
   ]
  },
  {
   "cell_type": "code",
   "execution_count": 6,
   "metadata": {},
   "outputs": [
    {
     "name": "stderr",
     "output_type": "stream",
     "text": [
      "/home/medric/Desktop/appV2/databasePochta/lib/python3.10/site-packages/gymnasium/wrappers/rendering.py:283: UserWarning: \u001b[33mWARN: Overwriting existing videos at /home/medric/Desktop/rl_course/after_refactoring/energy-based-ppo-refactoring/results folder (try specifying a different `video_folder` for the `RecordVideo` wrapper if this is not desired)\u001b[0m\n",
      "  logger.warn(\n",
      "TRPO evaluation: 100%|██████████| 1000/1000 [00:17<00:00, 58.50it/s]"
     ]
    },
    {
     "name": "stdout",
     "output_type": "stream",
     "text": [
      "Evaluation Results over 1000 episodes:\n",
      "Average Episode Length: 193.64\n",
      "Average Episode Reward: 1799.57\n",
      "Average Episode Energy Reward: 2236.63\n"
     ]
    },
    {
     "name": "stderr",
     "output_type": "stream",
     "text": [
      "\n"
     ]
    },
    {
     "data": {
      "text/plain": [
       "(1799.571527722269, 2236.628630881899, 193.643)"
      ]
     },
     "execution_count": 6,
     "metadata": {},
     "output_type": "execute_result"
    }
   ],
   "source": [
    "agent = load_model(\"./results/trpo-energies-best.pt\", agent)\n",
    "evaluate(ENV_NAME, agent, num_episodes=1000, record_video=True, reward_type=\"energies\")\n"
   ]
  },
  {
   "cell_type": "code",
   "execution_count": 7,
   "metadata": {},
   "outputs": [
    {
     "name": "stderr",
     "output_type": "stream",
     "text": [
      "Video files conversion: 100%|██████████| 2/2 [00:12<00:00,  6.02s/it]\n"
     ]
    }
   ],
   "source": [
    "mp4_to_gif(\"./results\")"
   ]
  }
 ],
 "metadata": {
  "kernelspec": {
   "display_name": ".venv",
   "language": "python",
   "name": "python3"
  },
  "language_info": {
   "codemirror_mode": {
    "name": "ipython",
    "version": 3
   },
   "file_extension": ".py",
   "mimetype": "text/x-python",
   "name": "python",
   "nbconvert_exporter": "python",
   "pygments_lexer": "ipython3",
   "version": "3.12.6"
  }
 },
 "nbformat": 4,
 "nbformat_minor": 2
}
