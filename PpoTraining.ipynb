{
 "cells": [
  {
   "cell_type": "code",
   "execution_count": 4,
   "metadata": {},
   "outputs": [],
   "source": [
    "from src.ppo import PPO, load_model, train_ppo, evaluate\n",
    "import os"
   ]
  },
  {
   "cell_type": "code",
   "execution_count": 5,
   "metadata": {},
   "outputs": [],
   "source": [
    "ENV_NAME = \"InvertedDoublePendulum-v5\"\n",
    "\n",
    "os.makedirs(\"logs\", exist_ok=True)\n",
    "os.makedirs(\"videos\", exist_ok=True)\n",
    "os.makedirs(\"results\", exist_ok=True)"
   ]
  },
  {
   "cell_type": "markdown",
   "metadata": {},
   "source": [
    "Standart Reward"
   ]
  },
  {
   "cell_type": "code",
   "execution_count": 6,
   "metadata": {},
   "outputs": [
    {
     "name": "stderr",
     "output_type": "stream",
     "text": [
      "PPO training: 100%|██████████| 300/300 [06:45<00:00,  1.35s/it]\n"
     ]
    }
   ],
   "source": [
    "train_ppo(\n",
    "        ENV_NAME, num_epochs=300, steps_per_epoch=4096, \n",
    "        save_freq=100, gamma=0.99,\n",
    "        typeOfReward='rewards'\n",
    "    )"
   ]
  },
  {
   "cell_type": "code",
   "execution_count": 8,
   "metadata": {},
   "outputs": [
    {
     "name": "stderr",
     "output_type": "stream",
     "text": [
      "/home/medric/Desktop/appV2/databasePochta/lib/python3.10/site-packages/gymnasium/wrappers/rendering.py:283: UserWarning: \u001b[33mWARN: Overwriting existing videos at /home/medric/Desktop/rl_course/ppo/energy-based-ppo/results folder (try specifying a different `video_folder` for the `RecordVideo` wrapper if this is not desired)\u001b[0m\n",
      "  logger.warn(\n",
      "PPO evaluation: 100%|██████████| 1000/1000 [01:24<00:00, 11.90it/s]"
     ]
    },
    {
     "name": "stdout",
     "output_type": "stream",
     "text": [
      "Evaluation Results over 1000 episodes:\n",
      "Average Episode Length: 996.07\n",
      "Average Episode Reward: 9322.97\n",
      "Average Episode Energy Reward: 11719.93\n"
     ]
    },
    {
     "name": "stderr",
     "output_type": "stream",
     "text": [
      "\n"
     ]
    },
    {
     "data": {
      "text/plain": [
       "(9322.97253016743, 11719.928196547977, 996.067)"
      ]
     },
     "execution_count": 8,
     "metadata": {},
     "output_type": "execute_result"
    }
   ],
   "source": [
    "agent = load_model(\"./results/ppo-best.pt\", \n",
    "                       env_name=ENV_NAME)\n",
    "evaluate(ENV_NAME, agent, \n",
    "             num_episodes=1000, \n",
    "             record_video=True)"
   ]
  },
  {
   "cell_type": "markdown",
   "metadata": {},
   "source": [
    "Energy Reward"
   ]
  },
  {
   "cell_type": "code",
   "execution_count": null,
   "metadata": {},
   "outputs": [],
   "source": [
    "train_ppo(\n",
    "        ENV_NAME, num_epochs=300, steps_per_epoch=4096, \n",
    "        save_freq=100, gamma=0.99,\n",
    "        typeOfReward='energy_rewards'\n",
    "    )"
   ]
  },
  {
   "cell_type": "code",
   "execution_count": 10,
   "metadata": {},
   "outputs": [
    {
     "name": "stderr",
     "output_type": "stream",
     "text": [
      "/home/medric/Desktop/appV2/databasePochta/lib/python3.10/site-packages/gymnasium/wrappers/rendering.py:283: UserWarning: \u001b[33mWARN: Overwriting existing videos at /home/medric/Desktop/rl_course/ppo/energy-based-ppo/results folder (try specifying a different `video_folder` for the `RecordVideo` wrapper if this is not desired)\u001b[0m\n",
      "  logger.warn(\n",
      "PPO evaluation: 100%|██████████| 1000/1000 [01:25<00:00, 11.64it/s]"
     ]
    },
    {
     "name": "stdout",
     "output_type": "stream",
     "text": [
      "Evaluation Results over 1000 episodes:\n",
      "Average Episode Length: 998.09\n",
      "Average Episode Reward: 9339.79\n",
      "Average Episode Energy Reward: 11738.86\n"
     ]
    },
    {
     "name": "stderr",
     "output_type": "stream",
     "text": [
      "\n"
     ]
    },
    {
     "data": {
      "text/plain": [
       "(9339.793053503052, 11738.857842702206, 998.093)"
      ]
     },
     "execution_count": 10,
     "metadata": {},
     "output_type": "execute_result"
    }
   ],
   "source": [
    "agent = load_model(\"./results/ppo-best.pt\", \n",
    "                       env_name=ENV_NAME)\n",
    "evaluate(ENV_NAME, agent, \n",
    "             num_episodes=1000, \n",
    "             record_video=True)"
   ]
  }
 ],
 "metadata": {
  "kernelspec": {
   "display_name": "databasePochta",
   "language": "python",
   "name": "python3"
  },
  "language_info": {
   "codemirror_mode": {
    "name": "ipython",
    "version": 3
   },
   "file_extension": ".py",
   "mimetype": "text/x-python",
   "name": "python",
   "nbconvert_exporter": "python",
   "pygments_lexer": "ipython3",
   "version": "3.10.12"
  }
 },
 "nbformat": 4,
 "nbformat_minor": 2
}
