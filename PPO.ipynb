{
 "cells": [
  {
   "cell_type": "code",
   "execution_count": 1,
   "metadata": {},
   "outputs": [],
   "source": [
    "import os\n",
    "\n",
    "import numpy as np\n",
    "import torch\n",
    "\n",
    "from src.ppo import PPO\n",
    "from src.tools import evaluate, load_model, train\n",
    "from src.utils import mp4_to_gif\n"
   ]
  },
  {
   "cell_type": "code",
   "execution_count": 2,
   "metadata": {},
   "outputs": [],
   "source": [
    "# Set random seeds for reproducibility\n",
    "SEED = 42\n",
    "torch.manual_seed(SEED)\n",
    "np.random.seed(SEED)\n",
    "\n",
    "ENV_NAME = \"InvertedDoublePendulum-v5\"\n",
    "os.makedirs(\"results\", exist_ok=True)"
   ]
  },
  {
   "cell_type": "markdown",
   "metadata": {},
   "source": [
    "Standart Reward"
   ]
  },
  {
   "cell_type": "code",
   "execution_count": null,
   "metadata": {},
   "outputs": [],
   "source": [
    "agent = train(\n",
    "    env_name=ENV_NAME,\n",
    "    agent=PPO,\n",
    "    num_epochs=300,\n",
    "    steps_per_epoch=4096,\n",
    "    gamma=0.99,\n",
    "    reward_type=\"rewards\",\n",
    ")"
   ]
  },
  {
   "cell_type": "code",
   "execution_count": null,
   "metadata": {},
   "outputs": [
    {
     "name": "stderr",
     "output_type": "stream",
     "text": [
      "c:\\Users\\mekor\\Documents\\Skoltech\\Term-7\\RL\\energy-based-ppo\\.venv\\Lib\\site-packages\\gymnasium\\wrappers\\rendering.py:283: UserWarning: \u001b[33mWARN: Overwriting existing videos at c:\\Users\\mekor\\Documents\\Skoltech\\Term-7\\RL\\energy-based-ppo\\results folder (try specifying a different `video_folder` for the `RecordVideo` wrapper if this is not desired)\u001b[0m\n",
      "  logger.warn(\n",
      "PPO evaluation: 100%|██████████| 1000/1000 [03:54<00:00,  4.26it/s]\n"
     ]
    },
    {
     "name": "stdout",
     "output_type": "stream",
     "text": [
      "Evaluation Results over 1000 episodes:\n",
      "Average Episode Length: 999.02\n",
      "Average Episode Reward: 9349.34\n",
      "Average Episode Energy Reward: 11750.91\n"
     ]
    },
    {
     "data": {
      "text/plain": [
       "(np.float64(9349.342940538749),\n",
       " np.float64(11750.913289396767),\n",
       " np.float64(999.019))"
      ]
     },
     "execution_count": 5,
     "metadata": {},
     "output_type": "execute_result"
    }
   ],
   "source": [
    "agent = load_model(\"./results/ppo-rewards-best.pt\", agent)\n",
    "evaluate(ENV_NAME, agent, num_episodes=1000, record_video=True, reward_type=\"rewards\")\n"
   ]
  },
  {
   "cell_type": "markdown",
   "metadata": {},
   "source": [
    "Energy Reward"
   ]
  },
  {
   "cell_type": "code",
   "execution_count": 3,
   "metadata": {},
   "outputs": [
    {
     "name": "stderr",
     "output_type": "stream",
     "text": [
      "PPO training: 100%|██████████| 300/300 [25:23<00:00,  5.08s/it]\n"
     ]
    }
   ],
   "source": [
    "agent = train(\n",
    "    env_name=ENV_NAME,\n",
    "    agent=PPO,\n",
    "    num_epochs=300,\n",
    "    steps_per_epoch=4096,\n",
    "    gamma=0.99,\n",
    "    reward_type=\"energies\",\n",
    ")"
   ]
  },
  {
   "cell_type": "code",
   "execution_count": 5,
   "metadata": {},
   "outputs": [
    {
     "name": "stderr",
     "output_type": "stream",
     "text": [
      "c:\\Users\\mekor\\Documents\\Skoltech\\Term-7\\RL\\energy-based-ppo\\.venv\\Lib\\site-packages\\gymnasium\\wrappers\\rendering.py:283: UserWarning: \u001b[33mWARN: Overwriting existing videos at c:\\Users\\mekor\\Documents\\Skoltech\\Term-7\\RL\\energy-based-ppo\\results folder (try specifying a different `video_folder` for the `RecordVideo` wrapper if this is not desired)\u001b[0m\n",
      "  logger.warn(\n",
      "PPO evaluation: 100%|██████████| 1000/1000 [03:44<00:00,  4.45it/s]\n"
     ]
    },
    {
     "name": "stdout",
     "output_type": "stream",
     "text": [
      "Evaluation Results over 1000 episodes:\n",
      "Average Episode Length: 931.26\n",
      "Average Episode Reward: 8715.33\n",
      "Average Episode Energy Reward: 10954.28\n"
     ]
    },
    {
     "data": {
      "text/plain": [
       "(np.float64(8715.327711082764),\n",
       " np.float64(10954.275469944578),\n",
       " np.float64(931.258))"
      ]
     },
     "execution_count": 5,
     "metadata": {},
     "output_type": "execute_result"
    }
   ],
   "source": [
    "agent = load_model(\"./results/ppo-energies-best.pt\", agent)\n",
    "evaluate(ENV_NAME, agent, num_episodes=1000, record_video=True, reward_type=\"energies\")\n"
   ]
  },
  {
   "cell_type": "code",
   "execution_count": 6,
   "metadata": {},
   "outputs": [
    {
     "name": "stderr",
     "output_type": "stream",
     "text": [
      "Video files conversion: 100%|██████████| 2/2 [00:35<00:00, 17.99s/it]\n"
     ]
    }
   ],
   "source": [
    "mp4_to_gif(\"./results\")"
   ]
  }
 ],
 "metadata": {
  "kernelspec": {
   "display_name": ".venv",
   "language": "python",
   "name": "python3"
  },
  "language_info": {
   "codemirror_mode": {
    "name": "ipython",
    "version": 3
   },
   "file_extension": ".py",
   "mimetype": "text/x-python",
   "name": "python",
   "nbconvert_exporter": "python",
   "pygments_lexer": "ipython3",
   "version": "3.12.6"
  }
 },
 "nbformat": 4,
 "nbformat_minor": 2
}
