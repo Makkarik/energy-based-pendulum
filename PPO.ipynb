{
 "cells": [
  {
   "cell_type": "code",
   "execution_count": 2,
   "metadata": {},
   "outputs": [],
   "source": [
    "import os\n",
    "\n",
    "import numpy as np\n",
    "import torch\n",
    "\n",
    "from src.ppo import PPO\n",
    "from src.tools import evaluate, load_model, train\n",
    "from src.utils import mp4_to_gif\n"
   ]
  },
  {
   "cell_type": "code",
   "execution_count": 3,
   "metadata": {},
   "outputs": [],
   "source": [
    "# Set random seeds for reproducibility\n",
    "SEED = 42\n",
    "torch.manual_seed(SEED)\n",
    "np.random.seed(SEED)\n",
    "\n",
    "ENV_NAME = \"InvertedDoublePendulum-v5\"\n",
    "os.makedirs(\"results\", exist_ok=True)\n",
    "\n",
    "VAL_EPISODES = 1000\n",
    "\n",
    "EPOCHS = 300\n",
    "STEPS_PER_EPOCH = 4096\n",
    "GAMMA = 0.99"
   ]
  },
  {
   "cell_type": "markdown",
   "metadata": {},
   "source": [
    "Regular reward"
   ]
  },
  {
   "cell_type": "code",
   "execution_count": 4,
   "metadata": {},
   "outputs": [
    {
     "name": "stderr",
     "output_type": "stream",
     "text": [
      "PPO training: 100%|██████████| 300/300 [24:27<00:00,  4.89s/it]\n"
     ]
    }
   ],
   "source": [
    "agent = train(\n",
    "    env_name=ENV_NAME,\n",
    "    agent=PPO,\n",
    "    num_epochs=EPOCHS,\n",
    "    steps_per_epoch=STEPS_PER_EPOCH,\n",
    "    gamma=GAMMA,\n",
    "    reward_type=\"rewards\",\n",
    ")"
   ]
  },
  {
   "cell_type": "code",
   "execution_count": 5,
   "metadata": {},
   "outputs": [
    {
     "name": "stderr",
     "output_type": "stream",
     "text": [
      "c:\\Users\\mekor\\Documents\\Skoltech\\Term-7\\RL\\energy-based-ppo\\.venv\\Lib\\site-packages\\gymnasium\\wrappers\\rendering.py:283: UserWarning: \u001b[33mWARN: Overwriting existing videos at c:\\Users\\mekor\\Documents\\Skoltech\\Term-7\\RL\\energy-based-ppo\\results folder (try specifying a different `video_folder` for the `RecordVideo` wrapper if this is not desired)\u001b[0m\n",
      "  logger.warn(\n",
      "PPO evaluation: 100%|██████████| 1000/1000 [03:55<00:00,  4.25it/s]\n"
     ]
    },
    {
     "name": "stdout",
     "output_type": "stream",
     "text": [
      "Evaluation Results over 1000 episodes:\n",
      "Average Episode Length: 1000.00\n",
      "Average Episode Reward: 9358.25\n",
      "Average Episode Energy Reward: 11766.82\n"
     ]
    },
    {
     "data": {
      "text/plain": [
       "(np.float64(9358.254787375121),\n",
       " np.float64(11766.82459066445),\n",
       " np.float64(1000.0))"
      ]
     },
     "execution_count": 5,
     "metadata": {},
     "output_type": "execute_result"
    }
   ],
   "source": [
    "agent = load_model(\"./results/ppo-rewards-best.pt\", agent)\n",
    "evaluate(\n",
    "    ENV_NAME, agent, num_episodes=VAL_EPISODES, record_video=True, reward_type=\"rewards\"\n",
    ")\n"
   ]
  },
  {
   "cell_type": "markdown",
   "metadata": {},
   "source": [
    "Energy Reward"
   ]
  },
  {
   "cell_type": "code",
   "execution_count": 6,
   "metadata": {},
   "outputs": [
    {
     "name": "stderr",
     "output_type": "stream",
     "text": [
      "PPO training: 100%|██████████| 300/300 [24:12<00:00,  4.84s/it]\n"
     ]
    }
   ],
   "source": [
    "agent = train(\n",
    "    env_name=ENV_NAME,\n",
    "    agent=PPO,\n",
    "    num_epochs=EPOCHS,\n",
    "    steps_per_epoch=STEPS_PER_EPOCH,\n",
    "    gamma=GAMMA,\n",
    "    reward_type=\"energies\",\n",
    ")"
   ]
  },
  {
   "cell_type": "code",
   "execution_count": 7,
   "metadata": {},
   "outputs": [
    {
     "name": "stderr",
     "output_type": "stream",
     "text": [
      "c:\\Users\\mekor\\Documents\\Skoltech\\Term-7\\RL\\energy-based-ppo\\.venv\\Lib\\site-packages\\gymnasium\\wrappers\\rendering.py:283: UserWarning: \u001b[33mWARN: Overwriting existing videos at c:\\Users\\mekor\\Documents\\Skoltech\\Term-7\\RL\\energy-based-ppo\\results folder (try specifying a different `video_folder` for the `RecordVideo` wrapper if this is not desired)\u001b[0m\n",
      "  logger.warn(\n",
      "PPO evaluation: 100%|██████████| 1000/1000 [03:53<00:00,  4.29it/s]\n"
     ]
    },
    {
     "name": "stdout",
     "output_type": "stream",
     "text": [
      "Evaluation Results over 1000 episodes:\n",
      "Average Episode Length: 998.04\n",
      "Average Episode Reward: 9341.49\n",
      "Average Episode Energy Reward: 11743.33\n"
     ]
    },
    {
     "data": {
      "text/plain": [
       "(np.float64(9341.494516223662),\n",
       " np.float64(11743.330215186734),\n",
       " np.float64(998.043))"
      ]
     },
     "execution_count": 7,
     "metadata": {},
     "output_type": "execute_result"
    }
   ],
   "source": [
    "agent = load_model(\"./results/ppo-energies-best.pt\", agent)\n",
    "evaluate(\n",
    "    ENV_NAME,\n",
    "    agent,\n",
    "    num_episodes=VAL_EPISODES,\n",
    "    record_video=True,\n",
    "    reward_type=\"energies\",\n",
    ")\n"
   ]
  },
  {
   "cell_type": "code",
   "execution_count": 8,
   "metadata": {},
   "outputs": [
    {
     "name": "stderr",
     "output_type": "stream",
     "text": [
      "Video files conversion: 100%|██████████| 2/2 [00:34<00:00, 17.10s/it]\n"
     ]
    }
   ],
   "source": [
    "mp4_to_gif(\"./results\")"
   ]
  }
 ],
 "metadata": {
  "kernelspec": {
   "display_name": ".venv",
   "language": "python",
   "name": "python3"
  },
  "language_info": {
   "codemirror_mode": {
    "name": "ipython",
    "version": 3
   },
   "file_extension": ".py",
   "mimetype": "text/x-python",
   "name": "python",
   "nbconvert_exporter": "python",
   "pygments_lexer": "ipython3",
   "version": "3.12.6"
  }
 },
 "nbformat": 4,
 "nbformat_minor": 2
}
