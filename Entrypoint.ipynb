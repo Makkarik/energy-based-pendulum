{
  "cells": [
    {
      "cell_type": "markdown",
      "metadata": {
        "id": "2L7RK4PKFnkq"
      },
      "source": [
        "# Energy-based PPO\n",
        "#### Team MIRAM\n",
        "---\n",
        "\n",
        "Makar Korchagin, Ilya Zherebtsov, Rinat Prochii, Aibek Akhmetkazy, Mikhail Gubanov"
      ]
    },
    {
      "cell_type": "markdown",
      "metadata": {
        "id": "0A5EvCu2FzD7"
      },
      "source": [
        "For the third project we have chosen the Inverted Double Pendulum environment with the custon reward function. The aim of the enviornmnet is to balance the Inverted Double Pendulum via controlling the movements of the cart, to which the pendulum is attached.\n",
        "\n",
        "![Inverted double pendulum](https://gymnasium.farama.org/_images/inverted_double_pendulum.gif)\n",
        "\n"
      ]
    },
    {
      "cell_type": "markdown",
      "metadata": {
        "id": "Nfaf2-N-GXjq"
      },
      "source": [
        "## State space\n",
        "\n",
        "![Double pendulum system](https://www.researchgate.net/profile/Slavka-Jadlovska-2/publication/258795979/figure/fig2/AS:392622284787714@1470619855067/Classical-double-inverted-pendulum-system-scheme-and-basic-nomenclature.png)\n",
        "\n",
        "The system has the state space of 12 continuous variables:\n",
        "\n",
        "$x \\in \\mathbb{R}$ - is the position of the cart with mass $m$;\n",
        "\n",
        "$\\dot{x} \\in \\mathbb{R}$ - is the speed of the cart with mass $m$;\n",
        "\n",
        "$\\ddot{x} \\in \\mathbb{R}$ - is the acceleration of the cart with mass $m$;\n",
        "\n",
        "$\\theta_1 \\in [0, 2\\pi]$ - is the angle of the hinge with mass $m_1$ w.r.t. the vertical axis;\n",
        "\n",
        "$\\theta_2 \\in [0, 2\\pi]$ - is the angle of the hinge with mass $m_2$ w.r.t. the vertical axis;\n",
        "\n",
        "$\\dot{\\theta}_1 \\in \\mathbb{R}$ - is the anglular velocity of the hinge with mass $m_1$;\n",
        "\n",
        "$\\dot{\\theta}_2 \\in \\mathbb{R}$ - is the anglular velocity of the hinge with mass $m_2$;\n",
        "\n",
        "$\\ddot{\\theta}_1 \\in \\mathbb{R}$ - is the anglular acceleration of the hinge with mass $m_1$;\n",
        "\n",
        "$\\ddot{\\theta}_2 \\in \\mathbb{R}$ - is the anglular acceleration of the hinge with mass $m_2$;\n",
        "\n",
        "$f_0, f_1, f_2 \\in \\mathbb{R}$ - the friction forces for each degree of freedom.\n",
        "\n",
        "Aside from the state vector, the system has 5 hyperparameters:\n",
        "\n",
        "$m$ - the mass of the cart;\n",
        "\n",
        "$m_1, m_2$ - the masses of the first and second hinges respectively;\n",
        "\n",
        "$J_1, J_2$ - inertia momentums of the first and second poles respectively.\n"
      ]
    },
    {
      "cell_type": "markdown",
      "metadata": {
        "id": "ux4J-8R_hERu"
      },
      "source": [
        "### Mathematical model\n"
      ]
    },
    {
      "cell_type": "markdown",
      "metadata": {
        "id": "sz9dnQHrhPqo"
      },
      "source": [
        "Using the state variables and hyperparameters defined above, we can derive the second-order differential equation, that describes the behaviour of the given system\n",
        "\n",
        "$$H_1(z)\\ddot{z}=H_2(z,\\dot{z})\\dot{z}+h_3(z)+h_0u,$$\n",
        "\n",
        "where\n",
        "\n",
        "$$z = (x, \\theta_1, \\theta_2)^T;$$\n",
        "\n",
        "$$H_1(z) =\n",
        "\\begin{bmatrix}\n",
        "a_0 & a_1\\cos\\theta_1 & a_2\\cos\\theta_2 \\\\\n",
        "a_1\\cos\\theta_1 & b_1 & a_2l_1\\cos(\\theta_2-\\theta_1) \\\\\n",
        "a_2\\cos\\theta_2 & a_2l_1\\cos(\\theta_2 - \\theta_1) & b_2 \\\\\n",
        "\\end{bmatrix};\n",
        "$$\n",
        "\n",
        "$$H_2(z, \\dot{z}) =\n",
        "\\begin{bmatrix}\n",
        "-f_0 & a_1\\sin\\theta_1\\dot{\\theta}_1 & a_2\\sin\\theta_2\\dot{\\theta}_2 \\\\\n",
        "0 & - f_1 - f_2 & a_2l_1\\sin\\theta_2 \\dot{\\theta}_2 \\\\\n",
        "0 & -a_2l_1\\sin(\\theta_2 - \\theta_1)\\dot{\\theta}_1 + f_2 & - f_2 - f_3 \\\\\n",
        "\\end{bmatrix};\n",
        "$$\n",
        "\n",
        "$$\n",
        "h_3(z) =\n",
        "\\begin{bmatrix}\n",
        "0 & a_1g\\sin\\theta_1 & a_2g\\sin\\theta_2\n",
        "\\end{bmatrix}^T.\n",
        "$$\n",
        "\n",
        "The constants above denotes the following formulae\n",
        "\n",
        "$$a_0 = m + m_1 + m_2;$$\n",
        "\n",
        "$$a_1 = m_1l_1 + m_2l_2;$$\n",
        "\n",
        "$$a_2 = m_2l_2;$$\n",
        "\n",
        "$$b_1 = J_1 + m_1l_1^2 + m_2l_2^2;$$\n",
        "\n",
        "$$b_2 = J_2 + m_2l_2^2.$$\n"
      ]
    },
    {
      "cell_type": "markdown",
      "metadata": {
        "id": "HIdm5GT7igLT"
      },
      "source": [
        "### Initial state\n",
        "\n",
        "The initial positions of the poles and cart are randomly sampled from uniformly distributed noise, while the initial velocities are randomly sampled from the normal distributions. The second derivatives and other variables are zeros at the initial state\n",
        "\n",
        "$$s_0 =\n",
        "\\begin{cases}\n",
        "(\\theta_1, \\theta_2, x) \\sim \\mathcal{U}(-0.1 \\times I_3, 0.1 \\times I_3); \\\\\n",
        "(\\dot{\\theta}_1, \\dot{\\theta}_2, \\dot{x}) \\sim \\mathcal{N}(0_3, 0.1 \\times I_3); \\\\\n",
        "(\\ddot{\\theta}_1, \\ddot{\\theta}_2, \\ddot{x}, f_0, f_1, f_2) = 0_6.\n",
        "\\end{cases}\n",
        "$$"
      ]
    },
    {
      "cell_type": "markdown",
      "metadata": {
        "id": "EWOseHjZhRv1"
      },
      "source": [
        "### State space outline\n",
        "\n",
        "In conclusion, the environment of the Inverted Double Pendulum has a state vector of $s \\in \\mathbb{S} \\subset \\mathbb{R}^{12}$ with 9 variables of unlimited real numbers and two variables limited by the interval of $[0, 2\\pi]$."
      ]
    },
    {
      "cell_type": "markdown",
      "metadata": {
        "id": "FBJFTsjiK02_"
      },
      "source": [
        "## Action space\n",
        "\n",
        "The action space is a single continuous variable $f \\in [-1, 1]$ denoting the force [N] applied to the moving cart along $X$ axis."
      ]
    },
    {
      "cell_type": "markdown",
      "metadata": {
        "id": "WyJkheFiLR8X"
      },
      "source": [
        "## Observation space\n",
        "\n",
        "The environment support two types of observation spaces: kinmatics vector and the RGB image of the system. In this project we have decided to choose the first option.\n",
        "\n",
        "The observation vector of kinematics type includes 11 continuous variables:\n",
        "\n",
        "$x \\in \\mathbb{R}$ - is the position of the cart along x axis;\n",
        "\n",
        "$\\sin\\theta_1 \\in [-1, 1]$ - is the sine of the angle of the first hinge;\n",
        "\n",
        "$\\sin\\theta_2 \\in [-1, 1]$ - is the sine of the angle of the second hinge;\n",
        "\n",
        "$\\cos\\theta_1 \\in [-1, 1]$ - is the cosine of the angle of the first hinge;\n",
        "\n",
        "$\\cos\\theta_2 \\in [-1, 1]$ - is the cosine of the angle of the second hinge;\n",
        "\n",
        "$u \\in \\mathbb{R}$ - is the velocity of the cart;\n",
        "\n",
        "$\\dot{\\theta}_1 \\in \\mathbb{R}$ - is the angular velocity of the first hinge;\n",
        "\n",
        "$\\dot{\\theta}_2 \\in \\mathbb{R}$ - is the angular velocity of the first hinge;\n",
        "\n",
        "$f_1, f_2, f_3 \\in \\mathbb{R}$ - are the contraints for each degree of freedom (cart pole position, first and second hinge angles respectively).\n"
      ]
    },
    {
      "cell_type": "markdown",
      "metadata": {
        "id": "w2RP0y68PSsb"
      },
      "source": [
        "## Reward\n",
        "\n",
        "The original reward introduce the constant reward for every step that can be decreased because of low position of the pendulum's tip and high speed of the cart\n",
        "\n",
        "$$r(s,a) = 10 - (0.01 x^2 + (y-2)^2) - 0.001 v_1^2 + 0.005 v_2^2,$$\n",
        "\n",
        "where:\n",
        "\n",
        "$x, y$ - are the coordinates of the free tip of the pendulum;\n",
        "\n",
        "$v_1, v_2$ - are the absolute velocities of the poles' centres of masses.\n",
        "\n",
        "We decided to change the reward, using the physics assumptions. It is obvoius that the pendulum holding is the task of the potential energy $V$ maximization and kinetic energy $T$ minimization\n",
        "\n",
        "$$\n",
        "\\begin{cases}\n",
        "V \\rightarrow \\max{}; \\\\\n",
        "T \\rightarrow 0.\n",
        "\\end{cases}\n",
        "$$\n",
        "\n",
        "Essentially, we propose is to equalize the reward function to the negative Lagrangian of the system\n",
        "\n",
        "$$r(s,a) = -L = \\sum_{i=0}^2 V_i - T_i,$$\n",
        "\n",
        "where:\n",
        "\n",
        "$$T_0 = \\frac{m\\dot{x}^2}{2}, V_0 = 0;$$\n",
        "\n",
        "$$T_1 = \\frac{m_1v_1^2}{2} + \\frac{J_1 \\dot{\\theta}_1^2}{2}=\\frac{7}{24}m_1l_1^2\\dot{\\theta}_1^2, V_1 = \\frac{1}{2}m_1gl_1\\cos\\theta_1;$$\n",
        "\n",
        "$$T_2 = \\frac{m_2v_2^2}{2} + \\frac{J_2 \\dot{\\theta}_2^2}{2}= \\frac{m_2l_2^2}{2} \\left( \\dot{\\theta}_1^2 + \\frac{1}{4} \\dot{\\theta}_2^2 + \\dot{\\theta}_1\\dot{\\theta}_2\\cos(\\theta_1 - \\theta_2)\\right) + \\frac{m_2l_2\\dot{\\theta}_2^2}{6}, V_2 = m_2g\\left(l_1\\cos\\theta_1 + \\frac{1}{2}l_2\\cos\\theta_2 \\right).$$\n",
        "\n",
        "Moreover, the proposed reward can be calculated using the observation vector and hyperparameters values only.\n",
        "\n",
        "For simplicity, the reward function can be normalized to the masses $m_1 = m_2 = m = 1$ and lengths $l_1 = l_2 = 1$ of the poles\n",
        "\n",
        "$$\n",
        "r(s,a) = g\\cos\\theta_1 + \\frac{1}{2}g\\cos\\theta_2 - \\frac{19}{24}\\dot{\\theta}_1^2 - \\frac{7}{24}\\dot{\\theta}_2^2 - \\frac{1}{2}\\dot{\\theta}_1\\dot{\\theta}_2\\cos(\\theta_1 - \\theta_2).\n",
        "$$\n",
        "\n",
        "\n",
        "\n"
      ]
    }
  ],
  "metadata": {
    "colab": {
      "provenance": []
    },
    "kernelspec": {
      "display_name": "Python 3",
      "name": "python3"
    },
    "language_info": {
      "name": "python"
    }
  },
  "nbformat": 4,
  "nbformat_minor": 0
}
